{
 "cells": [
  {
   "cell_type": "markdown",
   "id": "5bc6f2e1",
   "metadata": {
    "papermill": {
     "duration": 0.006305,
     "end_time": "2022-08-14T13:09:13.738684",
     "exception": false,
     "start_time": "2022-08-14T13:09:13.732379",
     "status": "completed"
    },
    "tags": []
   },
   "source": [
    "**This notebook is an exercise in the [Introduction to Machine Learning](https://www.kaggle.com/learn/intro-to-machine-learning) course.  You can reference the tutorial at [this link](https://www.kaggle.com/dansbecker/model-validation).**\n",
    "\n",
    "---\n"
   ]
  },
  {
   "cell_type": "markdown",
   "id": "cc097404",
   "metadata": {
    "papermill": {
     "duration": 0.004395,
     "end_time": "2022-08-14T13:09:13.748077",
     "exception": false,
     "start_time": "2022-08-14T13:09:13.743682",
     "status": "completed"
    },
    "tags": []
   },
   "source": [
    "## Recap\n",
    "You've built a model. In this exercise you will test how good your model is.\n",
    "\n",
    "Run the cell below to set up your coding environment where the previous exercise left off."
   ]
  },
  {
   "cell_type": "code",
   "execution_count": 1,
   "id": "a83f73b3",
   "metadata": {
    "execution": {
     "iopub.execute_input": "2022-08-14T13:09:13.760181Z",
     "iopub.status.busy": "2022-08-14T13:09:13.759633Z",
     "iopub.status.idle": "2022-08-14T13:09:15.406515Z",
     "shell.execute_reply": "2022-08-14T13:09:15.405044Z"
    },
    "papermill": {
     "duration": 1.65681,
     "end_time": "2022-08-14T13:09:15.409889",
     "exception": false,
     "start_time": "2022-08-14T13:09:13.753079",
     "status": "completed"
    },
    "tags": []
   },
   "outputs": [
    {
     "name": "stdout",
     "output_type": "stream",
     "text": [
      "First in-sample predictions: [208500. 181500. 223500. 140000. 250000.]\n",
      "Actual target values for those homes: [208500, 181500, 223500, 140000, 250000]\n",
      "Setup Complete\n"
     ]
    }
   ],
   "source": [
    "# Code you have previously used to load data\n",
    "import pandas as pd\n",
    "from sklearn.tree import DecisionTreeRegressor\n",
    "\n",
    "# Path of the file to read\n",
    "iowa_file_path = '../input/home-data-for-ml-course/train.csv'\n",
    "\n",
    "home_data = pd.read_csv(iowa_file_path)\n",
    "y = home_data.SalePrice\n",
    "feature_columns = ['LotArea', 'YearBuilt', '1stFlrSF', '2ndFlrSF', 'FullBath', 'BedroomAbvGr', 'TotRmsAbvGrd']\n",
    "X = home_data[feature_columns]\n",
    "\n",
    "# Specify Model\n",
    "iowa_model = DecisionTreeRegressor()\n",
    "# Fit Model\n",
    "iowa_model.fit(X, y)\n",
    "\n",
    "print(\"First in-sample predictions:\", iowa_model.predict(X.head()))\n",
    "print(\"Actual target values for those homes:\", y.head().tolist())\n",
    "\n",
    "# Set up code checking\n",
    "from learntools.core import binder\n",
    "binder.bind(globals())\n",
    "from learntools.machine_learning.ex4 import *\n",
    "print(\"Setup Complete\")"
   ]
  },
  {
   "cell_type": "markdown",
   "id": "8e3f4c62",
   "metadata": {
    "papermill": {
     "duration": 0.004791,
     "end_time": "2022-08-14T13:09:15.419871",
     "exception": false,
     "start_time": "2022-08-14T13:09:15.415080",
     "status": "completed"
    },
    "tags": []
   },
   "source": [
    "# Exercises\n",
    "\n",
    "## Step 1: Split Your Data\n",
    "Use the `train_test_split` function to split up your data.\n",
    "\n",
    "Give it the argument `random_state=1` so the `check` functions know what to expect when verifying your code.\n",
    "\n",
    "Recall, your features are loaded in the DataFrame **X** and your target is loaded in **y**.\n"
   ]
  },
  {
   "cell_type": "code",
   "execution_count": 2,
   "id": "dba6b9fe",
   "metadata": {
    "execution": {
     "iopub.execute_input": "2022-08-14T13:09:15.433063Z",
     "iopub.status.busy": "2022-08-14T13:09:15.432332Z",
     "iopub.status.idle": "2022-08-14T13:09:15.447452Z",
     "shell.execute_reply": "2022-08-14T13:09:15.446561Z"
    },
    "papermill": {
     "duration": 0.02493,
     "end_time": "2022-08-14T13:09:15.449949",
     "exception": false,
     "start_time": "2022-08-14T13:09:15.425019",
     "status": "completed"
    },
    "tags": []
   },
   "outputs": [
    {
     "data": {
      "application/javascript": [
       "parent.postMessage({\"jupyterEvent\": \"custom.exercise_interaction\", \"data\": {\"outcomeType\": 1, \"valueTowardsCompletion\": 0.25, \"interactionType\": 1, \"questionType\": 2, \"questionId\": \"1_SplitData\", \"learnToolsVersion\": \"0.3.4\", \"failureMessage\": \"\", \"exceptionClass\": \"\", \"trace\": \"\"}}, \"*\")"
      ],
      "text/plain": [
       "<IPython.core.display.Javascript object>"
      ]
     },
     "metadata": {},
     "output_type": "display_data"
    },
    {
     "data": {
      "text/markdown": [
       "<span style=\"color:#33cc33\">Correct</span>"
      ],
      "text/plain": [
       "Correct"
      ]
     },
     "metadata": {},
     "output_type": "display_data"
    }
   ],
   "source": [
    "# Import the train_test_split function and uncomment\n",
    "from sklearn.model_selection import train_test_split\n",
    "\n",
    "# fill in and uncomment\n",
    "train_X, val_X, train_y, val_y = train_test_split(X, y, random_state = 1)\n",
    "\n",
    "# Check your answer\n",
    "step_1.check()"
   ]
  },
  {
   "cell_type": "code",
   "execution_count": 3,
   "id": "4c434be4",
   "metadata": {
    "execution": {
     "iopub.execute_input": "2022-08-14T13:09:15.463988Z",
     "iopub.status.busy": "2022-08-14T13:09:15.462935Z",
     "iopub.status.idle": "2022-08-14T13:09:15.476111Z",
     "shell.execute_reply": "2022-08-14T13:09:15.474831Z"
    },
    "papermill": {
     "duration": 0.023675,
     "end_time": "2022-08-14T13:09:15.479274",
     "exception": false,
     "start_time": "2022-08-14T13:09:15.455599",
     "status": "completed"
    },
    "tags": []
   },
   "outputs": [
    {
     "data": {
      "application/javascript": [
       "parent.postMessage({\"jupyterEvent\": \"custom.exercise_interaction\", \"data\": {\"interactionType\": 2, \"questionType\": 2, \"questionId\": \"1_SplitData\", \"learnToolsVersion\": \"0.3.4\", \"valueTowardsCompletion\": 0.0, \"failureMessage\": \"\", \"exceptionClass\": \"\", \"trace\": \"\", \"outcomeType\": 4}}, \"*\")"
      ],
      "text/plain": [
       "<IPython.core.display.Javascript object>"
      ]
     },
     "metadata": {},
     "output_type": "display_data"
    },
    {
     "data": {
      "text/markdown": [
       "<span style=\"color:#3366cc\">Hint:</span> The function you need to import is part of sklearn. When calling the function, the arguments are X and y. Ensure you set the random_state to 1."
      ],
      "text/plain": [
       "Hint: The function you need to import is part of sklearn. When calling the function, the arguments are X and y. Ensure you set the random_state to 1."
      ]
     },
     "metadata": {},
     "output_type": "display_data"
    },
    {
     "data": {
      "application/javascript": [
       "parent.postMessage({\"jupyterEvent\": \"custom.exercise_interaction\", \"data\": {\"interactionType\": 3, \"questionType\": 2, \"questionId\": \"1_SplitData\", \"learnToolsVersion\": \"0.3.4\", \"valueTowardsCompletion\": 0.0, \"failureMessage\": \"\", \"exceptionClass\": \"\", \"trace\": \"\", \"outcomeType\": 4}}, \"*\")"
      ],
      "text/plain": [
       "<IPython.core.display.Javascript object>"
      ]
     },
     "metadata": {},
     "output_type": "display_data"
    },
    {
     "data": {
      "text/markdown": [
       "<span style=\"color:#33cc99\">Solution:</span> \n",
       "```python\n",
       "from sklearn.model_selection import train_test_split\n",
       "train_X, val_X, train_y, val_y = train_test_split(X, y, random_state=1)\n",
       "```"
      ],
      "text/plain": [
       "Solution: \n",
       "```python\n",
       "from sklearn.model_selection import train_test_split\n",
       "train_X, val_X, train_y, val_y = train_test_split(X, y, random_state=1)\n",
       "```"
      ]
     },
     "metadata": {},
     "output_type": "display_data"
    }
   ],
   "source": [
    "# The lines below will show you a hint or the solution.\n",
    "step_1.hint() \n",
    "step_1.solution()"
   ]
  },
  {
   "cell_type": "markdown",
   "id": "cb413cab",
   "metadata": {
    "papermill": {
     "duration": 0.006306,
     "end_time": "2022-08-14T13:09:15.491734",
     "exception": false,
     "start_time": "2022-08-14T13:09:15.485428",
     "status": "completed"
    },
    "tags": []
   },
   "source": [
    "## Step 2: Specify and Fit the Model\n",
    "\n",
    "Create a `DecisionTreeRegressor` model and fit it to the relevant data.\n",
    "Set `random_state` to 1 again when creating the model."
   ]
  },
  {
   "cell_type": "code",
   "execution_count": 4,
   "id": "11b54133",
   "metadata": {
    "execution": {
     "iopub.execute_input": "2022-08-14T13:09:15.506515Z",
     "iopub.status.busy": "2022-08-14T13:09:15.505586Z",
     "iopub.status.idle": "2022-08-14T13:09:15.543256Z",
     "shell.execute_reply": "2022-08-14T13:09:15.541784Z"
    },
    "papermill": {
     "duration": 0.048448,
     "end_time": "2022-08-14T13:09:15.546155",
     "exception": false,
     "start_time": "2022-08-14T13:09:15.497707",
     "status": "completed"
    },
    "tags": []
   },
   "outputs": [
    {
     "name": "stdout",
     "output_type": "stream",
     "text": [
      "[186500. 184000. 130000.  92000. 164500. 220000. 335000. 144152. 215000.\n",
      " 262000.]\n",
      "[186500. 184000. 130000.  92000. 164500. 220000. 335000. 144152. 215000.\n",
      " 262000.]\n"
     ]
    },
    {
     "data": {
      "application/javascript": [
       "parent.postMessage({\"jupyterEvent\": \"custom.exercise_interaction\", \"data\": {\"outcomeType\": 1, \"valueTowardsCompletion\": 0.25, \"interactionType\": 1, \"questionType\": 2, \"questionId\": \"2_FitModelWithTrain\", \"learnToolsVersion\": \"0.3.4\", \"failureMessage\": \"\", \"exceptionClass\": \"\", \"trace\": \"\"}}, \"*\")"
      ],
      "text/plain": [
       "<IPython.core.display.Javascript object>"
      ]
     },
     "metadata": {},
     "output_type": "display_data"
    },
    {
     "data": {
      "text/markdown": [
       "<span style=\"color:#33cc33\">Correct</span>"
      ],
      "text/plain": [
       "Correct"
      ]
     },
     "metadata": {},
     "output_type": "display_data"
    }
   ],
   "source": [
    "# You imported DecisionTreeRegressor in your last exercise\n",
    "# and that code has been copied to the setup code above. So, no need to\n",
    "from sklearn.tree import DecisionTreeRegressor\n",
    "\n",
    "# Specify the model\n",
    "iowa_model = DecisionTreeRegressor(random_state=1)\n",
    "\n",
    "# Fit iowa_model with the training data.\n",
    "iowa_model.fit(train_X, train_y)\n",
    "\n",
    "# Check your answer\n",
    "step_2.check()"
   ]
  },
  {
   "cell_type": "code",
   "execution_count": 5,
   "id": "0f54d5ea",
   "metadata": {
    "execution": {
     "iopub.execute_input": "2022-08-14T13:09:15.561885Z",
     "iopub.status.busy": "2022-08-14T13:09:15.560710Z",
     "iopub.status.idle": "2022-08-14T13:09:15.580218Z",
     "shell.execute_reply": "2022-08-14T13:09:15.579022Z"
    },
    "papermill": {
     "duration": 0.03046,
     "end_time": "2022-08-14T13:09:15.582981",
     "exception": false,
     "start_time": "2022-08-14T13:09:15.552521",
     "status": "completed"
    },
    "tags": []
   },
   "outputs": [
    {
     "data": {
      "application/javascript": [
       "parent.postMessage({\"jupyterEvent\": \"custom.exercise_interaction\", \"data\": {\"interactionType\": 2, \"questionType\": 2, \"questionId\": \"2_FitModelWithTrain\", \"learnToolsVersion\": \"0.3.4\", \"valueTowardsCompletion\": 0.0, \"failureMessage\": \"\", \"exceptionClass\": \"\", \"trace\": \"\", \"outcomeType\": 4}}, \"*\")"
      ],
      "text/plain": [
       "<IPython.core.display.Javascript object>"
      ]
     },
     "metadata": {},
     "output_type": "display_data"
    },
    {
     "data": {
      "text/markdown": [
       "<span style=\"color:#3366cc\">Hint:</span> Remember, you fit with training data. You will test with validation data soon"
      ],
      "text/plain": [
       "Hint: Remember, you fit with training data. You will test with validation data soon"
      ]
     },
     "metadata": {},
     "output_type": "display_data"
    },
    {
     "data": {
      "application/javascript": [
       "parent.postMessage({\"jupyterEvent\": \"custom.exercise_interaction\", \"data\": {\"interactionType\": 3, \"questionType\": 2, \"questionId\": \"2_FitModelWithTrain\", \"learnToolsVersion\": \"0.3.4\", \"valueTowardsCompletion\": 0.0, \"failureMessage\": \"\", \"exceptionClass\": \"\", \"trace\": \"\", \"outcomeType\": 4}}, \"*\")"
      ],
      "text/plain": [
       "<IPython.core.display.Javascript object>"
      ]
     },
     "metadata": {},
     "output_type": "display_data"
    },
    {
     "data": {
      "text/markdown": [
       "<span style=\"color:#33cc99\">Solution:</span> \n",
       "```python\n",
       "iowa_model = DecisionTreeRegressor(random_state=1)\n",
       "iowa_model.fit(train_X, train_y)\n",
       "```"
      ],
      "text/plain": [
       "Solution: \n",
       "```python\n",
       "iowa_model = DecisionTreeRegressor(random_state=1)\n",
       "iowa_model.fit(train_X, train_y)\n",
       "```"
      ]
     },
     "metadata": {},
     "output_type": "display_data"
    }
   ],
   "source": [
    "step_2.hint()\n",
    "step_2.solution()"
   ]
  },
  {
   "cell_type": "markdown",
   "id": "0e4e09ea",
   "metadata": {
    "papermill": {
     "duration": 0.006202,
     "end_time": "2022-08-14T13:09:15.596142",
     "exception": false,
     "start_time": "2022-08-14T13:09:15.589940",
     "status": "completed"
    },
    "tags": []
   },
   "source": [
    "## Step 3: Make Predictions with Validation data\n"
   ]
  },
  {
   "cell_type": "code",
   "execution_count": 6,
   "id": "6924cae8",
   "metadata": {
    "execution": {
     "iopub.execute_input": "2022-08-14T13:09:15.612473Z",
     "iopub.status.busy": "2022-08-14T13:09:15.611373Z",
     "iopub.status.idle": "2022-08-14T13:09:15.627162Z",
     "shell.execute_reply": "2022-08-14T13:09:15.625696Z"
    },
    "papermill": {
     "duration": 0.027038,
     "end_time": "2022-08-14T13:09:15.629913",
     "exception": false,
     "start_time": "2022-08-14T13:09:15.602875",
     "status": "completed"
    },
    "tags": []
   },
   "outputs": [
    {
     "data": {
      "application/javascript": [
       "parent.postMessage({\"jupyterEvent\": \"custom.exercise_interaction\", \"data\": {\"outcomeType\": 1, \"valueTowardsCompletion\": 0.25, \"interactionType\": 1, \"questionType\": 2, \"questionId\": \"3_ValPreds\", \"learnToolsVersion\": \"0.3.4\", \"failureMessage\": \"\", \"exceptionClass\": \"\", \"trace\": \"\"}}, \"*\")"
      ],
      "text/plain": [
       "<IPython.core.display.Javascript object>"
      ]
     },
     "metadata": {},
     "output_type": "display_data"
    },
    {
     "data": {
      "text/markdown": [
       "<span style=\"color:#33cc33\">Correct</span>"
      ],
      "text/plain": [
       "Correct"
      ]
     },
     "metadata": {},
     "output_type": "display_data"
    }
   ],
   "source": [
    "# Predict with all validation observations\n",
    "val_predictions = iowa_model.predict(val_X)\n",
    "\n",
    "# Check your answer\n",
    "step_3.check()"
   ]
  },
  {
   "cell_type": "code",
   "execution_count": 7,
   "id": "a9ddbb20",
   "metadata": {
    "execution": {
     "iopub.execute_input": "2022-08-14T13:09:15.646634Z",
     "iopub.status.busy": "2022-08-14T13:09:15.644999Z",
     "iopub.status.idle": "2022-08-14T13:09:15.664369Z",
     "shell.execute_reply": "2022-08-14T13:09:15.662275Z"
    },
    "papermill": {
     "duration": 0.031138,
     "end_time": "2022-08-14T13:09:15.667784",
     "exception": false,
     "start_time": "2022-08-14T13:09:15.636646",
     "status": "completed"
    },
    "tags": []
   },
   "outputs": [
    {
     "data": {
      "application/javascript": [
       "parent.postMessage({\"jupyterEvent\": \"custom.exercise_interaction\", \"data\": {\"interactionType\": 2, \"questionType\": 2, \"questionId\": \"3_ValPreds\", \"learnToolsVersion\": \"0.3.4\", \"valueTowardsCompletion\": 0.0, \"failureMessage\": \"\", \"exceptionClass\": \"\", \"trace\": \"\", \"outcomeType\": 4}}, \"*\")"
      ],
      "text/plain": [
       "<IPython.core.display.Javascript object>"
      ]
     },
     "metadata": {},
     "output_type": "display_data"
    },
    {
     "data": {
      "text/markdown": [
       "<span style=\"color:#3366cc\">Hint:</span> Run predict on the right validation data object."
      ],
      "text/plain": [
       "Hint: Run predict on the right validation data object."
      ]
     },
     "metadata": {},
     "output_type": "display_data"
    },
    {
     "data": {
      "application/javascript": [
       "parent.postMessage({\"jupyterEvent\": \"custom.exercise_interaction\", \"data\": {\"interactionType\": 3, \"questionType\": 2, \"questionId\": \"3_ValPreds\", \"learnToolsVersion\": \"0.3.4\", \"valueTowardsCompletion\": 0.0, \"failureMessage\": \"\", \"exceptionClass\": \"\", \"trace\": \"\", \"outcomeType\": 4}}, \"*\")"
      ],
      "text/plain": [
       "<IPython.core.display.Javascript object>"
      ]
     },
     "metadata": {},
     "output_type": "display_data"
    },
    {
     "data": {
      "text/markdown": [
       "<span style=\"color:#33cc99\">Solution:</span> \n",
       "```python\n",
       "val_predictions = iowa_model.predict(val_X)\n",
       "```"
      ],
      "text/plain": [
       "Solution: \n",
       "```python\n",
       "val_predictions = iowa_model.predict(val_X)\n",
       "```"
      ]
     },
     "metadata": {},
     "output_type": "display_data"
    }
   ],
   "source": [
    "step_3.hint()\n",
    "step_3.solution()"
   ]
  },
  {
   "cell_type": "markdown",
   "id": "604c8abf",
   "metadata": {
    "papermill": {
     "duration": 0.007607,
     "end_time": "2022-08-14T13:09:15.682914",
     "exception": false,
     "start_time": "2022-08-14T13:09:15.675307",
     "status": "completed"
    },
    "tags": []
   },
   "source": [
    "Inspect your predictions and actual values from validation data."
   ]
  },
  {
   "cell_type": "code",
   "execution_count": 8,
   "id": "d7dbd737",
   "metadata": {
    "execution": {
     "iopub.execute_input": "2022-08-14T13:09:15.700954Z",
     "iopub.status.busy": "2022-08-14T13:09:15.699250Z",
     "iopub.status.idle": "2022-08-14T13:09:15.709381Z",
     "shell.execute_reply": "2022-08-14T13:09:15.707486Z"
    },
    "papermill": {
     "duration": 0.021812,
     "end_time": "2022-08-14T13:09:15.712229",
     "exception": false,
     "start_time": "2022-08-14T13:09:15.690417",
     "status": "completed"
    },
    "tags": []
   },
   "outputs": [
    {
     "name": "stdout",
     "output_type": "stream",
     "text": [
      "[186500. 184000. 130000.  92000. 164500.]\n",
      "258     231500\n",
      "267     179500\n",
      "288     122000\n",
      "649      84500\n",
      "1233    142000\n",
      "Name: SalePrice, dtype: int64\n"
     ]
    }
   ],
   "source": [
    "# print the top few validation predictions\n",
    "print(val_predictions[:5])\n",
    "# print the top few actual prices from validation data\n",
    "print(val_y[:5])"
   ]
  },
  {
   "cell_type": "markdown",
   "id": "dd15f5fb",
   "metadata": {
    "papermill": {
     "duration": 0.008146,
     "end_time": "2022-08-14T13:09:15.728075",
     "exception": false,
     "start_time": "2022-08-14T13:09:15.719929",
     "status": "completed"
    },
    "tags": []
   },
   "source": [
    "What do you notice that is different from what you saw with in-sample predictions (which are printed after the top code cell in this page).\n",
    "\n",
    "Do you remember why validation predictions differ from in-sample (or training) predictions? This is an important idea from the last lesson.\n",
    "\n",
    "## Step 4: Calculate the Mean Absolute Error in Validation Data\n"
   ]
  },
  {
   "cell_type": "code",
   "execution_count": 9,
   "id": "e481208d",
   "metadata": {
    "execution": {
     "iopub.execute_input": "2022-08-14T13:09:15.744742Z",
     "iopub.status.busy": "2022-08-14T13:09:15.744332Z",
     "iopub.status.idle": "2022-08-14T13:09:15.755240Z",
     "shell.execute_reply": "2022-08-14T13:09:15.754347Z"
    },
    "papermill": {
     "duration": 0.022065,
     "end_time": "2022-08-14T13:09:15.757507",
     "exception": false,
     "start_time": "2022-08-14T13:09:15.735442",
     "status": "completed"
    },
    "tags": []
   },
   "outputs": [
    {
     "name": "stdout",
     "output_type": "stream",
     "text": [
      "29652.931506849316\n"
     ]
    },
    {
     "data": {
      "application/javascript": [
       "parent.postMessage({\"jupyterEvent\": \"custom.exercise_interaction\", \"data\": {\"outcomeType\": 1, \"valueTowardsCompletion\": 0.25, \"interactionType\": 1, \"questionType\": 1, \"questionId\": \"4_MAE\", \"learnToolsVersion\": \"0.3.4\", \"failureMessage\": \"\", \"exceptionClass\": \"\", \"trace\": \"\"}}, \"*\")"
      ],
      "text/plain": [
       "<IPython.core.display.Javascript object>"
      ]
     },
     "metadata": {},
     "output_type": "display_data"
    },
    {
     "data": {
      "text/markdown": [
       "<span style=\"color:#33cc33\">Correct</span>"
      ],
      "text/plain": [
       "Correct"
      ]
     },
     "metadata": {},
     "output_type": "display_data"
    }
   ],
   "source": [
    "from sklearn.metrics import mean_absolute_error\n",
    "val_mae = mean_absolute_error(val_y, val_predictions)\n",
    "\n",
    "# uncomment following line to see the validation_mae\n",
    "print(val_mae)\n",
    "\n",
    "# Check your answer\n",
    "step_4.check()"
   ]
  },
  {
   "cell_type": "code",
   "execution_count": 10,
   "id": "9c31d729",
   "metadata": {
    "execution": {
     "iopub.execute_input": "2022-08-14T13:09:15.777979Z",
     "iopub.status.busy": "2022-08-14T13:09:15.776561Z",
     "iopub.status.idle": "2022-08-14T13:09:15.790081Z",
     "shell.execute_reply": "2022-08-14T13:09:15.788876Z"
    },
    "papermill": {
     "duration": 0.025893,
     "end_time": "2022-08-14T13:09:15.792446",
     "exception": false,
     "start_time": "2022-08-14T13:09:15.766553",
     "status": "completed"
    },
    "tags": []
   },
   "outputs": [
    {
     "data": {
      "application/javascript": [
       "parent.postMessage({\"jupyterEvent\": \"custom.exercise_interaction\", \"data\": {\"interactionType\": 2, \"questionType\": 1, \"questionId\": \"4_MAE\", \"learnToolsVersion\": \"0.3.4\", \"valueTowardsCompletion\": 0.0, \"failureMessage\": \"\", \"exceptionClass\": \"\", \"trace\": \"\", \"outcomeType\": 4}}, \"*\")"
      ],
      "text/plain": [
       "<IPython.core.display.Javascript object>"
      ]
     },
     "metadata": {},
     "output_type": "display_data"
    },
    {
     "data": {
      "text/markdown": [
       "<span style=\"color:#3366cc\">Hint:</span> The order of arguments to mean_absolute_error doesn't matter. Make sure you fit to only the training data in step 2."
      ],
      "text/plain": [
       "Hint: The order of arguments to mean_absolute_error doesn't matter. Make sure you fit to only the training data in step 2."
      ]
     },
     "metadata": {},
     "output_type": "display_data"
    },
    {
     "data": {
      "application/javascript": [
       "parent.postMessage({\"jupyterEvent\": \"custom.exercise_interaction\", \"data\": {\"interactionType\": 3, \"questionType\": 1, \"questionId\": \"4_MAE\", \"learnToolsVersion\": \"0.3.4\", \"valueTowardsCompletion\": 0.0, \"failureMessage\": \"\", \"exceptionClass\": \"\", \"trace\": \"\", \"outcomeType\": 4}}, \"*\")"
      ],
      "text/plain": [
       "<IPython.core.display.Javascript object>"
      ]
     },
     "metadata": {},
     "output_type": "display_data"
    },
    {
     "data": {
      "text/markdown": [
       "<span style=\"color:#33cc99\">Solution:</span> \n",
       "```python\n",
       "val_mae = mean_absolute_error(val_y, val_predictions)\n",
       "```"
      ],
      "text/plain": [
       "Solution: \n",
       "```python\n",
       "val_mae = mean_absolute_error(val_y, val_predictions)\n",
       "```"
      ]
     },
     "metadata": {},
     "output_type": "display_data"
    }
   ],
   "source": [
    "step_4.hint()\n",
    "step_4.solution()"
   ]
  },
  {
   "cell_type": "markdown",
   "id": "91ea228c",
   "metadata": {
    "papermill": {
     "duration": 0.007734,
     "end_time": "2022-08-14T13:09:15.808438",
     "exception": false,
     "start_time": "2022-08-14T13:09:15.800704",
     "status": "completed"
    },
    "tags": []
   },
   "source": [
    "Is that MAE good?  There isn't a general rule for what values are good that applies across applications. But you'll see how to use (and improve) this number in the next step.\n",
    "\n",
    "# Keep Going\n",
    "\n",
    "You are ready for **[Underfitting and Overfitting](https://www.kaggle.com/dansbecker/underfitting-and-overfitting).**\n"
   ]
  },
  {
   "cell_type": "markdown",
   "id": "8d4979cb",
   "metadata": {
    "papermill": {
     "duration": 0.007831,
     "end_time": "2022-08-14T13:09:15.824924",
     "exception": false,
     "start_time": "2022-08-14T13:09:15.817093",
     "status": "completed"
    },
    "tags": []
   },
   "source": [
    "---\n",
    "\n",
    "\n",
    "\n",
    "\n",
    "*Have questions or comments? Visit the [course discussion forum](https://www.kaggle.com/learn/intro-to-machine-learning/discussion) to chat with other learners.*"
   ]
  }
 ],
 "metadata": {
  "kernelspec": {
   "display_name": "Python 3",
   "language": "python",
   "name": "python3"
  },
  "language_info": {
   "codemirror_mode": {
    "name": "ipython",
    "version": 3
   },
   "file_extension": ".py",
   "mimetype": "text/x-python",
   "name": "python",
   "nbconvert_exporter": "python",
   "pygments_lexer": "ipython3",
   "version": "3.7.12"
  },
  "papermill": {
   "default_parameters": {},
   "duration": 15.185323,
   "end_time": "2022-08-14T13:09:16.958387",
   "environment_variables": {},
   "exception": null,
   "input_path": "__notebook__.ipynb",
   "output_path": "__notebook__.ipynb",
   "parameters": {},
   "start_time": "2022-08-14T13:09:01.773064",
   "version": "2.3.4"
  }
 },
 "nbformat": 4,
 "nbformat_minor": 5
}
